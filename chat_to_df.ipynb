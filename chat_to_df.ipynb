{
 "cells": [
  {
   "cell_type": "code",
   "execution_count": 42,
   "metadata": {},
   "outputs": [],
   "source": [
    "#판다스 및 라이브러리 호출\n",
    "import pandas as pd\n",
    "import numpy as np\n",
    "import re"
   ]
  },
  {
   "cell_type": "code",
   "execution_count": 43,
   "metadata": {},
   "outputs": [],
   "source": [
    "# 텍스트 파일 읽기\n",
    "with open('LINE_raw_data.txt', 'r', encoding='utf-8') as file:\n",
    "    lines = file.readlines()"
   ]
  },
  {
   "cell_type": "code",
   "execution_count": 44,
   "metadata": {},
   "outputs": [],
   "source": [
    "#리스트 초기화\n",
    "data = []\n",
    "current_date = None\n",
    "\n",
    "for line in lines:\n",
    "    line = line.strip()\n",
    "    \n",
    "    # 날짜 판별 (2020년 부터 기록되어 있으므로)\n",
    "    if line.startswith(\"202\"): \n",
    "        current_date = line\n",
    "        continue\n",
    "    \n",
    "    # 시간, 보낸사람, 메시지 판별\n",
    "    if current_date:\n",
    "        if '\\t' in line:\n",
    "            parts = line.split('\\t')\n",
    "            if len(parts) == 3:\n",
    "                time = parts[0].strip()\n",
    "                sender = parts[1].strip()\n",
    "                message = parts[2].strip()\n",
    "                data.append([current_date, time, sender, message])"
   ]
  },
  {
   "cell_type": "code",
   "execution_count": 45,
   "metadata": {},
   "outputs": [],
   "source": [
    "df = pd.DataFrame(data, columns=['Date', 'Time', 'Sender', 'Message']) #데이터 프레임 생성"
   ]
  },
  {
   "cell_type": "code",
   "execution_count": 46,
   "metadata": {},
   "outputs": [],
   "source": [
    "'''\n",
    "기존의 date는 2020. 12. 5. (토), time은 00:08로 되어있었음\n",
    "월과 일이 1자리수 혹은 2자리수 이므로 정규표현식을 사용\n",
    "'''\n",
    "\n",
    "df['DateTime'] = pd.to_datetime(df['Date'].str.extract(r'(\\d{4}\\.\\s*\\d{1,2}\\.\\s*\\d{1,2}\\.)')[0] + ' ' + df['Time'])"
   ]
  },
  {
   "cell_type": "code",
   "execution_count": 47,
   "metadata": {},
   "outputs": [],
   "source": [
    "df2 = df[['DateTime', 'Sender', 'Message']]"
   ]
  },
  {
   "cell_type": "code",
   "execution_count": 48,
   "metadata": {},
   "outputs": [
    {
     "name": "stderr",
     "output_type": "stream",
     "text": [
      "C:\\Users\\LSNAu\\AppData\\Local\\Temp\\ipykernel_20112\\3583387435.py:2: SettingWithCopyWarning: \n",
      "A value is trying to be set on a copy of a slice from a DataFrame.\n",
      "Try using .loc[row_indexer,col_indexer] = value instead\n",
      "\n",
      "See the caveats in the documentation: https://pandas.pydata.org/pandas-docs/stable/user_guide/indexing.html#returning-a-view-versus-a-copy\n",
      "  df2['Sender'] = df2['Sender'].replace(replace_dictionary)\n"
     ]
    }
   ],
   "source": [
    "#replace_dictionary = 이름을 가리기 위해 replace함\n",
    "\n",
    "df2['Sender'] = df2['Sender'].replace(replace_dictionary)\n"
   ]
  },
  {
   "cell_type": "code",
   "execution_count": 51,
   "metadata": {},
   "outputs": [],
   "source": [
    "df2.to_csv('LINE_data.csv', index=False)"
   ]
  }
 ],
 "metadata": {
  "kernelspec": {
   "display_name": "Python 3",
   "language": "python",
   "name": "python3"
  },
  "language_info": {
   "codemirror_mode": {
    "name": "ipython",
    "version": 3
   },
   "file_extension": ".py",
   "mimetype": "text/x-python",
   "name": "python",
   "nbconvert_exporter": "python",
   "pygments_lexer": "ipython3",
   "version": "3.10.9"
  }
 },
 "nbformat": 4,
 "nbformat_minor": 2
}
