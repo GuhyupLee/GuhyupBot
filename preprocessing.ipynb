{
 "cells": [
  {
   "cell_type": "code",
   "execution_count": 18,
   "metadata": {},
   "outputs": [],
   "source": [
    "import pandas as pd\n",
    "import numpy as np\n",
    "from datetime import datetime, timedelta\n",
    "from tqdm import tqdm"
   ]
  },
  {
   "cell_type": "code",
   "execution_count": 56,
   "metadata": {},
   "outputs": [],
   "source": [
    "#데이터 프레임을 읽어오기\n",
    "chat_df = pd.read_csv('LINE_data.csv')"
   ]
  },
  {
   "cell_type": "code",
   "execution_count": 64,
   "metadata": {},
   "outputs": [],
   "source": [
    "def refine_conversation(df):\n",
    "    # 대화를 저장할 리스트 초기화\n",
    "    conversations = []\n",
    "    current_conversation = []  # 현재 대화를 저장할 리스트 초기화\n",
    "    last_message_time = None  # 마지막 메시지 시간을 추적하기 위한 변수 초기화\n",
    "\n",
    "    # 데이터프레임의 각 행을 반복 처리, 진행 상황을 표시하기 위해 tqdm 사용\n",
    "    for index, row in tqdm(df.iterrows(), total=df.shape[0], desc=\"Processing Conversations\"):\n",
    "        if row['Sender'] != 'LSN':\n",
    "            # 마지막 메시지 시간과 현재 메시지 시간의 차이가 1시간을 초과하면 대화를 종료\n",
    "            if current_conversation and (row['DateTime'] - last_message_time > timedelta(hours=1)):\n",
    "                # 현재 대화를 'Prev_Message'와 'My_Response'로 분리하여 conversations 리스트에 추가\n",
    "                prev_message = ' '.join([msg['Message'] for msg in current_conversation if msg['Sender'] != 'LSN'])\n",
    "                my_response = ' '.join([msg['Message'] for msg in current_conversation if msg['Sender'] == 'LSN'])\n",
    "                if my_response.strip():  # My_Response가 공백이 아닌 경우에만 추가\n",
    "                    conversations.append({\n",
    "                        'Prev_Message': prev_message,\n",
    "                        'My_Response': my_response\n",
    "                    })\n",
    "                # 현재 대화 초기화\n",
    "                current_conversation = []\n",
    "\n",
    "            # 현재 메시지를 현재 대화 리스트에 추가\n",
    "            current_conversation.append(row)\n",
    "            # 마지막 메시지 시간 업데이트\n",
    "            last_message_time = row['DateTime']\n",
    "            \n",
    "        elif row['Sender'] == 'LSN':\n",
    "            if current_conversation:\n",
    "                # LSN의 응답을 현재 대화에 추가하고 대화를 종료\n",
    "                current_conversation.append(row)\n",
    "                prev_message = ' '.join([msg['Message'] for msg in current_conversation if msg['Sender'] != 'LSN'])\n",
    "                my_response = ' '.join([msg['Message'] for msg in current_conversation if msg['Sender'] == 'LSN'])\n",
    "                if my_response.strip():  # My_Response가 공백이 아닌 경우에만 추가\n",
    "                    conversations.append({\n",
    "                        'Prev_Message': prev_message,\n",
    "                        'My_Response': my_response\n",
    "                    })\n",
    "                # 현재 대화 초기화\n",
    "                current_conversation = []\n",
    "            # 마지막 메시지 시간 업데이트\n",
    "            last_message_time = row['DateTime']\n",
    "\n",
    "    # 마지막 대화가 남아 있을 경우 추가\n",
    "    if current_conversation:\n",
    "        prev_message = ' '.join([msg['Message'] for msg in current_conversation if msg['Sender'] != 'LSN'])\n",
    "        my_response = ' '.join([msg['Message'] for msg in current_conversation if msg['Sender'] == 'LSN'])\n",
    "        if my_response.strip():  # My_Response가 공백이 아닌 경우에만 추가\n",
    "            conversations.append({\n",
    "                'Prev_Message': prev_message,\n",
    "                'My_Response': my_response\n",
    "            })\n",
    "\n",
    "    # 대화 목록을 데이터프레임으로 반환\n",
    "    return pd.DataFrame(conversations)"
   ]
  },
  {
   "cell_type": "code",
   "execution_count": 70,
   "metadata": {},
   "outputs": [],
   "source": [
    "def preprocess_chat_data(df):\n",
    "    df['DateTime'] = pd.to_datetime(df['DateTime'], format='%Y-%m-%d %H:%M:%S')\n",
    "    result_df = refine_conversation(df)\n",
    "    return result_df"
   ]
  },
  {
   "cell_type": "code",
   "execution_count": 66,
   "metadata": {},
   "outputs": [
    {
     "name": "stderr",
     "output_type": "stream",
     "text": [
      "Processing Conversations: 100%|██████████| 474706/474706 [00:19<00:00, 24378.68it/s]\n"
     ]
    }
   ],
   "source": [
    "result_df = preprocess_chat_data(chat_df)"
   ]
  },
  {
   "cell_type": "code",
   "execution_count": 73,
   "metadata": {},
   "outputs": [],
   "source": [
    "result_df.to_csv('preprocessing_df.csv', index=False)"
   ]
  }
 ],
 "metadata": {
  "kernelspec": {
   "display_name": "Python 3",
   "language": "python",
   "name": "python3"
  },
  "language_info": {
   "codemirror_mode": {
    "name": "ipython",
    "version": 3
   },
   "file_extension": ".py",
   "mimetype": "text/x-python",
   "name": "python",
   "nbconvert_exporter": "python",
   "pygments_lexer": "ipython3",
   "version": "3.10.9"
  }
 },
 "nbformat": 4,
 "nbformat_minor": 2
}
